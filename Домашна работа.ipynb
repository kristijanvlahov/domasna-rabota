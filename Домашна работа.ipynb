{
 "cells": [
  {
   "cell_type": "markdown",
   "metadata": {
    "kernel": "SoS"
   },
   "source": [
    "# ТЕОРИЈА:"
   ]
  },
  {
   "cell_type": "markdown",
   "metadata": {
    "kernel": "SoS"
   },
   "source": [
    "За да филтрираме слика во фреквенциски домен потребно е да ја помножиме сликата во фреквенциски домен со филтерот (кернел) кој е исто така во фреквенциски домен."
   ]
  },
  {
   "cell_type": "markdown",
   "metadata": {
    "kernel": "SoS"
   },
   "source": [
    "\\begin{equation}\n",
    "𝐼𝑓,𝑓𝑖𝑙𝑡= 𝐻𝐼𝑓                                                                                             \n",
    "\\end{equation}\n",
    "(1)"
   ]
  },
  {
   "cell_type": "markdown",
   "metadata": {
    "kernel": "SoS"
   },
   "source": [
    "За таа цел потребно е да се вметне Octave функција која ќе креира “Band pass gaussian filter” во фреквенциски домен. Bandpass гаусовиот филтер во фреквенциски домен е дефиниран со равенката:"
   ]
  },
  {
   "cell_type": "markdown",
   "metadata": {
    "kernel": "SoS"
   },
   "source": [
    "\\begin{equation}\n",
    "𝐻(𝑖,𝑗)= 𝑒−𝑑(𝑖,𝑗)2𝑓ℎ2(1− 𝑒−𝑑(𝑖,𝑗)2𝑓𝑙2)                                                                     \n",
    "\\end{equation}\n",
    "(2)"
   ]
  },
  {
   "cell_type": "markdown",
   "metadata": {
    "kernel": "SoS"
   },
   "source": [
    "Каде што 𝑑(𝑖,𝑗) е евклидовото растојанието на даден пиксел од центарот на сликата, додека 𝑓ℎи 𝑓𝑙 се праговите на високите и ниските фреквенции кои сакаме да ги филтрираме."
   ]
  },
  {
   "cell_type": "markdown",
   "metadata": {
    "kernel": "SoS"
   },
   "source": [
    "Конверзија на 2D сликата од просторен во фреквенциски домен се прави со користење на Фуриева трансформација. Фуриевата трансформација е дефинирана како:"
   ]
  },
  {
   "cell_type": "markdown",
   "metadata": {
    "kernel": "SoS"
   },
   "source": [
    "\\begin{equation}\n",
    "𝐹(𝑢,𝑣)=∬𝑓(𝑥,𝑦) 𝑒−𝑖2𝜋(𝑢𝑥+𝑣𝑦)𝑑𝑥𝑑𝑦\n",
    "\\end{equation}  "
   ]
  },
  {
   "cell_type": "markdown",
   "metadata": {
    "kernel": "SoS"
   },
   "source": [
    "А во дискретниот домен горната равенка може да биде преведена како"
   ]
  },
  {
   "cell_type": "markdown",
   "metadata": {
    "kernel": "SoS"
   },
   "source": [
    "\\begin{equation}\n",
    "𝐹(𝑢,𝑣)=ΣΣ𝑓[𝑚,𝑛]∞𝑛=−∞∙𝑒−𝑖2𝜋(𝑢𝑚𝑥0+𝑣𝑛𝑦0)  \n",
    "\\end{equation}  (3)"
   ]
  },
  {
   "cell_type": "markdown",
   "metadata": {
    "kernel": "SoS"
   },
   "source": [
    "Конверзија на 2D сликата од фреквенциски во просторен домен се прави со користење на инверзна Фуриева трансформација. Инверзната Фуриева трансформација е дефинирана како:"
   ]
  },
  {
   "cell_type": "markdown",
   "metadata": {
    "kernel": "SoS"
   },
   "source": [
    "\\begin{equation}\n",
    "𝑓(𝑥,𝑦)=∬𝐹(𝑢,𝑣) 𝑒𝑖2𝜋(𝑢𝑥+𝑣𝑦)𝑑𝑢𝑑𝑣\n",
    "\\end{equation}  "
   ]
  },
  {
   "cell_type": "markdown",
   "metadata": {
    "kernel": "SoS"
   },
   "source": [
    "А во дискретниот домен горната равенка може да биде преведена како"
   ]
  },
  {
   "cell_type": "markdown",
   "metadata": {
    "kernel": "SoS"
   },
   "source": [
    "\\begin{equation}\n",
    "𝑓(𝑥,𝑦)=ΣΣ𝐹(𝑚,𝑛)∙𝑒𝑖2𝜋(𝑥𝑚𝑢0+𝑦𝑛𝑣0)  \n",
    "\\end{equation}\n",
    "(4)\n",
    "                                                                                                         "
   ]
  },
  {
   "cell_type": "code",
   "execution_count": null,
   "metadata": {
    "kernel": "Python 3",
    "scrolled": true
   },
   "outputs": [],
   "source": [
    "\n",
    "import ipywidgets as widgets\n",
    "from IPython.display import display\n",
    "import matplotlib.pyplot as plt\n",
    "import numpy as np\n",
    "\n",
    "widgets.IntRangeSlider(\n",
    "    value=[0, 2],\n",
    "    min=0,\n",
    "    max=10,\n",
    "    step=1,\n",
    "    description='Frequency description:',\n",
    "    disabled=False,\n",
    "    continuous_update=False,\n",
    "    orientation='horizontal',\n",
    "    readout=True,\n",
    "    readout_format='d',\n",
    ")"
   ]
  },
  {
   "cell_type": "code",
   "execution_count": null,
   "metadata": {
    "kernel": "Python 3",
    "scrolled": false
   },
   "outputs": [],
   "source": []
  },
  {
   "cell_type": "code",
   "execution_count": null,
   "metadata": {
    "kernel": "Python 3"
   },
   "outputs": [],
   "source": [
    "function filter = create_filter(nx,ny,d0,d1)\n",
    "\n",
    "filter = ones(nx,ny);\n",
    "\n",
    "for i = 0:nx-1,\n",
    "            for j = 0:ny-1\n",
    "                 dist= sqrt((i-nx/2)^2 + (j-ny/2)^2);\n",
    "                 filter(i+1,j+1) = exp(-dist^2/(2*(d1^2))).*(1.0-exp(-dist^2/(2*(d0^2))));\n",
    "            end\n",
    "end\n",
    "\n",
    "filter(nx/2+1,ny/2+1)=1;\n",
    "end\n",
    "\n",
    "im_fft = fftshift(fft2(im));\n",
    "filtered_image = abs(ifft2(ifftshift(create_filter(nx,ny,i,j).*im_fft)));"
   ]
  },
  {
   "cell_type": "code",
   "execution_count": null,
   "metadata": {
    "kernel": "Python 3"
   },
   "outputs": [],
   "source": []
  },
  {
   "cell_type": "code",
   "execution_count": null,
   "metadata": {
    "kernel": "Python 3"
   },
   "outputs": [],
   "source": []
  },
  {
   "cell_type": "code",
   "execution_count": null,
   "metadata": {
    "kernel": "Python 3"
   },
   "outputs": [],
   "source": []
  },
  {
   "cell_type": "code",
   "execution_count": null,
   "metadata": {
    "kernel": "Python 3"
   },
   "outputs": [],
   "source": []
  },
  {
   "cell_type": "code",
   "execution_count": null,
   "metadata": {
    "kernel": "Python 3"
   },
   "outputs": [],
   "source": []
  },
  {
   "cell_type": "code",
   "execution_count": null,
   "metadata": {
    "kernel": "Python 3"
   },
   "outputs": [],
   "source": []
  }
 ],
 "metadata": {
  "kernelspec": {
   "display_name": "SoS",
   "language": "sos",
   "name": "sos"
  },
  "language_info": {
   "codemirror_mode": "sos",
   "file_extension": ".sos",
   "mimetype": "text/x-sos",
   "name": "sos",
   "nbconvert_exporter": "sos_notebook.converter.SoS_Exporter",
   "pygments_lexer": "sos"
  },
  "sos": {
   "kernels": [
    [
     "Python 3",
     "python3",
     "python3",
     "",
     {
      "name": "ipython",
      "version": 3
     }
    ]
   ],
   "panel": {
    "displayed": true,
    "height": 0
   },
   "version": "0.21.0"
  }
 },
 "nbformat": 4,
 "nbformat_minor": 2
}
